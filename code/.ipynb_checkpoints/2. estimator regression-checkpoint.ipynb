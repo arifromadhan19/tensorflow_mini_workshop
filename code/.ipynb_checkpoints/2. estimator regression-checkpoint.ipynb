{
 "cells": [
  {
   "cell_type": "markdown",
   "metadata": {},
   "source": [
    "<h1> Machine Learning using tf.estimator </h1>\n",
    "\n",
    "In this notebook, we will create a machine learning model using tf.estimator and evaluate its performance.  The dataset is rather small (7700 samples), so we can do it all in-memory.  We will also simply pass the raw data in as-is. "
   ]
  },
  {
   "cell_type": "code",
   "execution_count": 1,
   "metadata": {},
   "outputs": [
    {
     "name": "stdout",
     "output_type": "stream",
     "text": [
      "1.12.0\n"
     ]
    }
   ],
   "source": [
    "import tensorflow as tf\n",
    "import pandas as pd\n",
    "import numpy as np\n",
    "import shutil\n",
    "\n",
    "print(tf.__version__)"
   ]
  },
  {
   "cell_type": "code",
   "execution_count": 2,
   "metadata": {},
   "outputs": [],
   "source": [
    "# In CSV, label is the first column, after the features, followed by the key\n",
    "CSV_COLUMNS = ['fare_amount', 'pickuplon','pickuplat','dropofflon','dropofflat','passengers', 'key']\n",
    "FEATURES = CSV_COLUMNS[1:len(CSV_COLUMNS) - 1]\n",
    "LABEL = CSV_COLUMNS[0]\n",
    "\n",
    "df_train = pd.read_csv('./taxi-train.csv', header = None, names = CSV_COLUMNS)\n",
    "df_valid = pd.read_csv('./taxi-valid.csv', header = None, names = CSV_COLUMNS)"
   ]
  },
  {
   "cell_type": "code",
   "execution_count": 3,
   "metadata": {},
   "outputs": [
    {
     "data": {
      "text/html": [
       "<div>\n",
       "<style scoped>\n",
       "    .dataframe tbody tr th:only-of-type {\n",
       "        vertical-align: middle;\n",
       "    }\n",
       "\n",
       "    .dataframe tbody tr th {\n",
       "        vertical-align: top;\n",
       "    }\n",
       "\n",
       "    .dataframe thead th {\n",
       "        text-align: right;\n",
       "    }\n",
       "</style>\n",
       "<table border=\"1\" class=\"dataframe\">\n",
       "  <thead>\n",
       "    <tr style=\"text-align: right;\">\n",
       "      <th></th>\n",
       "      <th>fare_amount</th>\n",
       "      <th>pickuplon</th>\n",
       "      <th>pickuplat</th>\n",
       "      <th>dropofflon</th>\n",
       "      <th>dropofflat</th>\n",
       "      <th>passengers</th>\n",
       "      <th>key</th>\n",
       "    </tr>\n",
       "  </thead>\n",
       "  <tbody>\n",
       "    <tr>\n",
       "      <th>0</th>\n",
       "      <td>9.0</td>\n",
       "      <td>-73.932198</td>\n",
       "      <td>40.795582</td>\n",
       "      <td>-73.935471</td>\n",
       "      <td>40.800110</td>\n",
       "      <td>1</td>\n",
       "      <td>0</td>\n",
       "    </tr>\n",
       "    <tr>\n",
       "      <th>1</th>\n",
       "      <td>4.5</td>\n",
       "      <td>-73.967703</td>\n",
       "      <td>40.756252</td>\n",
       "      <td>-73.972677</td>\n",
       "      <td>40.747745</td>\n",
       "      <td>1</td>\n",
       "      <td>1</td>\n",
       "    </tr>\n",
       "    <tr>\n",
       "      <th>2</th>\n",
       "      <td>30.5</td>\n",
       "      <td>-73.863693</td>\n",
       "      <td>40.769852</td>\n",
       "      <td>-73.817482</td>\n",
       "      <td>40.664795</td>\n",
       "      <td>1</td>\n",
       "      <td>2</td>\n",
       "    </tr>\n",
       "    <tr>\n",
       "      <th>3</th>\n",
       "      <td>4.5</td>\n",
       "      <td>-73.969182</td>\n",
       "      <td>40.766816</td>\n",
       "      <td>-73.962413</td>\n",
       "      <td>40.778255</td>\n",
       "      <td>1</td>\n",
       "      <td>3</td>\n",
       "    </tr>\n",
       "    <tr>\n",
       "      <th>4</th>\n",
       "      <td>5.7</td>\n",
       "      <td>-73.975688</td>\n",
       "      <td>40.751843</td>\n",
       "      <td>-73.978840</td>\n",
       "      <td>40.744205</td>\n",
       "      <td>1</td>\n",
       "      <td>4</td>\n",
       "    </tr>\n",
       "  </tbody>\n",
       "</table>\n",
       "</div>"
      ],
      "text/plain": [
       "   fare_amount  pickuplon  pickuplat  dropofflon  dropofflat  passengers  key\n",
       "0          9.0 -73.932198  40.795582  -73.935471   40.800110           1    0\n",
       "1          4.5 -73.967703  40.756252  -73.972677   40.747745           1    1\n",
       "2         30.5 -73.863693  40.769852  -73.817482   40.664795           1    2\n",
       "3          4.5 -73.969182  40.766816  -73.962413   40.778255           1    3\n",
       "4          5.7 -73.975688  40.751843  -73.978840   40.744205           1    4"
      ]
     },
     "execution_count": 3,
     "metadata": {},
     "output_type": "execute_result"
    }
   ],
   "source": [
    "df_train.head()"
   ]
  },
  {
   "cell_type": "markdown",
   "metadata": {},
   "source": [
    "<h2> Input function to read from Pandas Dataframe into tf.constant </h2>"
   ]
  },
  {
   "cell_type": "code",
   "execution_count": 4,
   "metadata": {},
   "outputs": [],
   "source": [
    "def make_input_fn(df, num_epochs):\n",
    "    return tf.estimator.inputs.pandas_input_fn(\n",
    "    x = df,\n",
    "    y = df[LABEL],\n",
    "    batch_size = 128,\n",
    "    num_epochs = num_epochs,\n",
    "    shuffle = True,\n",
    "    queue_capacity = 1000,\n",
    "    num_threads = 1\n",
    "    )"
   ]
  },
  {
   "cell_type": "markdown",
   "metadata": {},
   "source": [
    "### Create feature columns for estimator"
   ]
  },
  {
   "cell_type": "code",
   "execution_count": 5,
   "metadata": {},
   "outputs": [],
   "source": [
    "def make_feature_cols():\n",
    "    input_columns = [tf.feature_column.numeric_column(k) for k in FEATURES]\n",
    "    return input_columns"
   ]
  },
  {
   "cell_type": "markdown",
   "metadata": {},
   "source": [
    "<h3> Linear Regression with tf.Estimator framework </h3>"
   ]
  },
  {
   "cell_type": "code",
   "execution_count": 6,
   "metadata": {},
   "outputs": [
    {
     "name": "stdout",
     "output_type": "stream",
     "text": [
      "INFO:tensorflow:Using default config.\n",
      "INFO:tensorflow:Using config: {'_model_dir': 'taxi_trained', '_tf_random_seed': None, '_save_summary_steps': 100, '_save_checkpoints_steps': None, '_save_checkpoints_secs': 600, '_session_config': allow_soft_placement: true\n",
      "graph_options {\n",
      "  rewrite_options {\n",
      "    meta_optimizer_iterations: ONE\n",
      "  }\n",
      "}\n",
      ", '_keep_checkpoint_max': 5, '_keep_checkpoint_every_n_hours': 10000, '_log_step_count_steps': 100, '_train_distribute': None, '_device_fn': None, '_protocol': None, '_eval_distribute': None, '_experimental_distribute': None, '_service': None, '_cluster_spec': <tensorflow.python.training.server_lib.ClusterSpec object at 0x7fb66a123400>, '_task_type': 'worker', '_task_id': 0, '_global_id_in_cluster': 0, '_master': '', '_evaluation_master': '', '_is_chief': True, '_num_ps_replicas': 0, '_num_worker_replicas': 1}\n",
      "WARNING:tensorflow:From /home/arif/anaconda3/envs/env_kaggle/lib/python3.6/site-packages/tensorflow/python/estimator/inputs/queues/feeding_queue_runner.py:62: QueueRunner.__init__ (from tensorflow.python.training.queue_runner_impl) is deprecated and will be removed in a future version.\n",
      "Instructions for updating:\n",
      "To construct input pipelines, use the `tf.data` module.\n",
      "WARNING:tensorflow:From /home/arif/anaconda3/envs/env_kaggle/lib/python3.6/site-packages/tensorflow/python/estimator/inputs/queues/feeding_functions.py:500: add_queue_runner (from tensorflow.python.training.queue_runner_impl) is deprecated and will be removed in a future version.\n",
      "Instructions for updating:\n",
      "To construct input pipelines, use the `tf.data` module.\n",
      "INFO:tensorflow:Calling model_fn.\n",
      "INFO:tensorflow:Done calling model_fn.\n",
      "INFO:tensorflow:Create CheckpointSaverHook.\n",
      "INFO:tensorflow:Graph was finalized.\n",
      "INFO:tensorflow:Running local_init_op.\n",
      "INFO:tensorflow:Done running local_init_op.\n",
      "WARNING:tensorflow:From /home/arif/anaconda3/envs/env_kaggle/lib/python3.6/site-packages/tensorflow/python/training/monitored_session.py:804: start_queue_runners (from tensorflow.python.training.queue_runner_impl) is deprecated and will be removed in a future version.\n",
      "Instructions for updating:\n",
      "To construct input pipelines, use the `tf.data` module.\n",
      "INFO:tensorflow:Saving checkpoints for 0 into taxi_trained/model.ckpt.\n",
      "INFO:tensorflow:loss = 27691.906, step = 0\n",
      "INFO:tensorflow:global_step/sec: 381.509\n",
      "INFO:tensorflow:loss = 9801.256, step = 100 (0.264 sec)\n",
      "INFO:tensorflow:global_step/sec: 404.388\n",
      "INFO:tensorflow:loss = 9205.383, step = 200 (0.247 sec)\n",
      "INFO:tensorflow:global_step/sec: 480.678\n",
      "INFO:tensorflow:loss = 9029.481, step = 300 (0.208 sec)\n",
      "INFO:tensorflow:global_step/sec: 478.78\n",
      "INFO:tensorflow:loss = 6460.3887, step = 400 (0.209 sec)\n",
      "INFO:tensorflow:global_step/sec: 457.657\n",
      "INFO:tensorflow:loss = 14083.408, step = 500 (0.219 sec)\n",
      "INFO:tensorflow:Saving checkpoints for 573 into taxi_trained/model.ckpt.\n",
      "INFO:tensorflow:Loss for final step: 7214.6206.\n"
     ]
    },
    {
     "data": {
      "text/plain": [
       "<tensorflow.python.estimator.canned.linear.LinearRegressor at 0x7fb6f8082e10>"
      ]
     },
     "execution_count": 6,
     "metadata": {},
     "output_type": "execute_result"
    }
   ],
   "source": [
    "tf.logging.set_verbosity(tf.logging.INFO)\n",
    "\n",
    "OUTDIR = 'taxi_trained'\n",
    "shutil.rmtree(OUTDIR, ignore_errors = True) # start fresh each time\n",
    "\n",
    "model = tf.estimator.LinearRegressor(\n",
    "      feature_columns = make_feature_cols(), model_dir = OUTDIR)\n",
    "\n",
    "model.train(input_fn = make_input_fn(df_train, num_epochs = 10))"
   ]
  },
  {
   "cell_type": "markdown",
   "metadata": {},
   "source": [
    "Evaluate on the validation data (we should defer using the test data to after we have selected a final model)."
   ]
  },
  {
   "cell_type": "code",
   "execution_count": 7,
   "metadata": {},
   "outputs": [
    {
     "name": "stdout",
     "output_type": "stream",
     "text": [
      "INFO:tensorflow:Calling model_fn.\n",
      "INFO:tensorflow:Done calling model_fn.\n",
      "INFO:tensorflow:Starting evaluation at 2019-07-23-05:56:37\n",
      "INFO:tensorflow:Graph was finalized.\n",
      "INFO:tensorflow:Restoring parameters from taxi_trained/model.ckpt-573\n",
      "INFO:tensorflow:Running local_init_op.\n",
      "INFO:tensorflow:Done running local_init_op.\n",
      "INFO:tensorflow:Finished evaluation at 2019-07-23-05:56:38\n",
      "INFO:tensorflow:Saving dict for global step 573: average_loss = 95.23998, global_step = 573, label/mean = 11.340871, loss = 11509.386, prediction/mean = 10.4599495\n",
      "INFO:tensorflow:Saving 'checkpoint_path' summary for global step 573: taxi_trained/model.ckpt-573\n",
      "RMSE on validation dataset = 9.7590970993042\n"
     ]
    }
   ],
   "source": [
    "def print_rmse(model, name, df):\n",
    "    metrics = model.evaluate(input_fn = make_input_fn(df, 1))\n",
    "    print('RMSE on {} dataset = {}'.format(name, np.sqrt(metrics['average_loss'])))\n",
    "print_rmse(model, 'validation', df_valid)"
   ]
  },
  {
   "cell_type": "markdown",
   "metadata": {},
   "source": [
    "This is nowhere near our benchmark (RMSE of $6 or so on this data), but it serves to demonstrate what TensorFlow code looks like.  Let's use this model for prediction."
   ]
  },
  {
   "cell_type": "code",
   "execution_count": 8,
   "metadata": {},
   "outputs": [
    {
     "name": "stdout",
     "output_type": "stream",
     "text": [
      "INFO:tensorflow:Using default config.\n",
      "INFO:tensorflow:Using config: {'_model_dir': 'taxi_trained', '_tf_random_seed': None, '_save_summary_steps': 100, '_save_checkpoints_steps': None, '_save_checkpoints_secs': 600, '_session_config': allow_soft_placement: true\n",
      "graph_options {\n",
      "  rewrite_options {\n",
      "    meta_optimizer_iterations: ONE\n",
      "  }\n",
      "}\n",
      ", '_keep_checkpoint_max': 5, '_keep_checkpoint_every_n_hours': 10000, '_log_step_count_steps': 100, '_train_distribute': None, '_device_fn': None, '_protocol': None, '_eval_distribute': None, '_experimental_distribute': None, '_service': None, '_cluster_spec': <tensorflow.python.training.server_lib.ClusterSpec object at 0x7fb660066550>, '_task_type': 'worker', '_task_id': 0, '_global_id_in_cluster': 0, '_master': '', '_evaluation_master': '', '_is_chief': True, '_num_ps_replicas': 0, '_num_worker_replicas': 1}\n",
      "INFO:tensorflow:Calling model_fn.\n",
      "INFO:tensorflow:Done calling model_fn.\n",
      "INFO:tensorflow:Graph was finalized.\n",
      "INFO:tensorflow:Restoring parameters from taxi_trained/model.ckpt-573\n",
      "INFO:tensorflow:Running local_init_op.\n",
      "INFO:tensorflow:Done running local_init_op.\n",
      "[10.380402, 10.849974, 10.383293, 10.500851, 10.5026245]\n"
     ]
    }
   ],
   "source": [
    "import itertools\n",
    "# Read saved model and use it for prediction\n",
    "model = tf.estimator.LinearRegressor(\n",
    "      feature_columns = make_feature_cols(), model_dir = OUTDIR)\n",
    "preds_iter = model.predict(input_fn = make_input_fn(df_valid, 1))\n",
    "print([pred['predictions'][0] for pred in list(itertools.islice(preds_iter, 5))])"
   ]
  },
  {
   "cell_type": "markdown",
   "metadata": {},
   "source": [
    "This explains why the RMSE was so high -- the model essentially predicts the same amount for every trip.  Would a more complex model help? Let's try using a deep neural network.  The code to do this is quite straightforward as well."
   ]
  },
  {
   "cell_type": "code",
   "execution_count": null,
   "metadata": {},
   "outputs": [],
   "source": []
  },
  {
   "cell_type": "markdown",
   "metadata": {},
   "source": [
    "<h3> Deep Neural Network regression </h3>"
   ]
  },
  {
   "cell_type": "code",
   "execution_count": 9,
   "metadata": {},
   "outputs": [
    {
     "name": "stdout",
     "output_type": "stream",
     "text": [
      "INFO:tensorflow:Using default config.\n",
      "INFO:tensorflow:Using config: {'_model_dir': 'taxi_trained', '_tf_random_seed': None, '_save_summary_steps': 100, '_save_checkpoints_steps': None, '_save_checkpoints_secs': 600, '_session_config': allow_soft_placement: true\n",
      "graph_options {\n",
      "  rewrite_options {\n",
      "    meta_optimizer_iterations: ONE\n",
      "  }\n",
      "}\n",
      ", '_keep_checkpoint_max': 5, '_keep_checkpoint_every_n_hours': 10000, '_log_step_count_steps': 100, '_train_distribute': None, '_device_fn': None, '_protocol': None, '_eval_distribute': None, '_experimental_distribute': None, '_service': None, '_cluster_spec': <tensorflow.python.training.server_lib.ClusterSpec object at 0x7fb668a1f048>, '_task_type': 'worker', '_task_id': 0, '_global_id_in_cluster': 0, '_master': '', '_evaluation_master': '', '_is_chief': True, '_num_ps_replicas': 0, '_num_worker_replicas': 1}\n",
      "INFO:tensorflow:Calling model_fn.\n",
      "INFO:tensorflow:Done calling model_fn.\n",
      "INFO:tensorflow:Create CheckpointSaverHook.\n",
      "INFO:tensorflow:Graph was finalized.\n",
      "INFO:tensorflow:Running local_init_op.\n",
      "INFO:tensorflow:Done running local_init_op.\n",
      "INFO:tensorflow:Saving checkpoints for 0 into taxi_trained/model.ckpt.\n",
      "INFO:tensorflow:loss = 12718.531, step = 0\n",
      "INFO:tensorflow:global_step/sec: 343.971\n",
      "INFO:tensorflow:loss = 4165.2383, step = 100 (0.291 sec)\n",
      "INFO:tensorflow:global_step/sec: 417.699\n",
      "INFO:tensorflow:loss = 12963.578, step = 200 (0.239 sec)\n",
      "INFO:tensorflow:global_step/sec: 418.123\n",
      "INFO:tensorflow:loss = 17796.328, step = 300 (0.239 sec)\n",
      "INFO:tensorflow:global_step/sec: 351.669\n",
      "INFO:tensorflow:loss = 8620.478, step = 400 (0.286 sec)\n",
      "INFO:tensorflow:global_step/sec: 375.625\n",
      "INFO:tensorflow:loss = 10739.572, step = 500 (0.264 sec)\n",
      "INFO:tensorflow:global_step/sec: 429.284\n",
      "INFO:tensorflow:loss = 17724.195, step = 600 (0.233 sec)\n",
      "INFO:tensorflow:global_step/sec: 424.226\n",
      "INFO:tensorflow:loss = 10213.746, step = 700 (0.236 sec)\n",
      "INFO:tensorflow:global_step/sec: 398.789\n",
      "INFO:tensorflow:loss = 4854.1196, step = 800 (0.251 sec)\n",
      "INFO:tensorflow:global_step/sec: 416.511\n",
      "INFO:tensorflow:loss = 6231.0044, step = 900 (0.240 sec)\n",
      "INFO:tensorflow:global_step/sec: 397.442\n",
      "INFO:tensorflow:loss = 18797.11, step = 1000 (0.252 sec)\n",
      "INFO:tensorflow:global_step/sec: 409.339\n",
      "INFO:tensorflow:loss = 9018.785, step = 1100 (0.244 sec)\n",
      "INFO:tensorflow:global_step/sec: 406.963\n",
      "INFO:tensorflow:loss = 7792.501, step = 1200 (0.246 sec)\n",
      "INFO:tensorflow:global_step/sec: 408.992\n",
      "INFO:tensorflow:loss = 15919.552, step = 1300 (0.245 sec)\n",
      "INFO:tensorflow:global_step/sec: 446.818\n",
      "INFO:tensorflow:loss = 11007.814, step = 1400 (0.224 sec)\n",
      "INFO:tensorflow:global_step/sec: 413.004\n",
      "INFO:tensorflow:loss = 8424.564, step = 1500 (0.242 sec)\n",
      "INFO:tensorflow:global_step/sec: 401.631\n",
      "INFO:tensorflow:loss = 7112.387, step = 1600 (0.249 sec)\n",
      "INFO:tensorflow:global_step/sec: 407.024\n",
      "INFO:tensorflow:loss = 15159.135, step = 1700 (0.246 sec)\n",
      "INFO:tensorflow:global_step/sec: 393.356\n",
      "INFO:tensorflow:loss = 21831.83, step = 1800 (0.254 sec)\n",
      "INFO:tensorflow:global_step/sec: 387.996\n",
      "INFO:tensorflow:loss = 8385.257, step = 1900 (0.258 sec)\n",
      "INFO:tensorflow:global_step/sec: 430.563\n",
      "INFO:tensorflow:loss = 9872.375, step = 2000 (0.232 sec)\n",
      "INFO:tensorflow:global_step/sec: 422.913\n",
      "INFO:tensorflow:loss = 10345.372, step = 2100 (0.236 sec)\n",
      "INFO:tensorflow:global_step/sec: 414.157\n",
      "INFO:tensorflow:loss = 17010.547, step = 2200 (0.242 sec)\n",
      "INFO:tensorflow:global_step/sec: 411.328\n",
      "INFO:tensorflow:loss = 10343.812, step = 2300 (0.243 sec)\n",
      "INFO:tensorflow:global_step/sec: 377.448\n",
      "INFO:tensorflow:loss = 8841.94, step = 2400 (0.265 sec)\n",
      "INFO:tensorflow:global_step/sec: 418.008\n",
      "INFO:tensorflow:loss = 12838.497, step = 2500 (0.239 sec)\n",
      "INFO:tensorflow:global_step/sec: 315.399\n",
      "INFO:tensorflow:loss = 7157.3657, step = 2600 (0.317 sec)\n",
      "INFO:tensorflow:global_step/sec: 389.77\n",
      "INFO:tensorflow:loss = 8774.911, step = 2700 (0.256 sec)\n",
      "INFO:tensorflow:global_step/sec: 386.915\n",
      "INFO:tensorflow:loss = 12817.617, step = 2800 (0.258 sec)\n",
      "INFO:tensorflow:global_step/sec: 387.292\n",
      "INFO:tensorflow:loss = 12873.388, step = 2900 (0.260 sec)\n",
      "INFO:tensorflow:global_step/sec: 423.03\n",
      "INFO:tensorflow:loss = 43047.77, step = 3000 (0.235 sec)\n",
      "INFO:tensorflow:global_step/sec: 415.687\n",
      "INFO:tensorflow:loss = 13210.4795, step = 3100 (0.241 sec)\n",
      "INFO:tensorflow:global_step/sec: 409.89\n",
      "INFO:tensorflow:loss = 8900.605, step = 3200 (0.244 sec)\n",
      "INFO:tensorflow:global_step/sec: 404.622\n",
      "INFO:tensorflow:loss = 13158.979, step = 3300 (0.248 sec)\n",
      "INFO:tensorflow:global_step/sec: 400.174\n",
      "INFO:tensorflow:loss = 18687.959, step = 3400 (0.250 sec)\n",
      "INFO:tensorflow:global_step/sec: 422.087\n",
      "INFO:tensorflow:loss = 6477.0625, step = 3500 (0.237 sec)\n",
      "INFO:tensorflow:global_step/sec: 388.378\n",
      "INFO:tensorflow:loss = 8132.4463, step = 3600 (0.258 sec)\n",
      "INFO:tensorflow:global_step/sec: 335.055\n",
      "INFO:tensorflow:loss = 13024.086, step = 3700 (0.300 sec)\n",
      "INFO:tensorflow:global_step/sec: 348.341\n",
      "INFO:tensorflow:loss = 12152.316, step = 3800 (0.285 sec)\n",
      "INFO:tensorflow:global_step/sec: 332.388\n",
      "INFO:tensorflow:loss = 6962.6445, step = 3900 (0.301 sec)\n",
      "INFO:tensorflow:global_step/sec: 387.731\n",
      "INFO:tensorflow:loss = 37816.03, step = 4000 (0.257 sec)\n",
      "INFO:tensorflow:global_step/sec: 310.422\n",
      "INFO:tensorflow:loss = 14226.847, step = 4100 (0.322 sec)\n",
      "INFO:tensorflow:global_step/sec: 345.716\n",
      "INFO:tensorflow:loss = 7751.23, step = 4200 (0.289 sec)\n",
      "INFO:tensorflow:global_step/sec: 380.684\n",
      "INFO:tensorflow:loss = 8786.262, step = 4300 (0.264 sec)\n",
      "INFO:tensorflow:global_step/sec: 386.45\n",
      "INFO:tensorflow:loss = 7557.2695, step = 4400 (0.257 sec)\n",
      "INFO:tensorflow:global_step/sec: 371.788\n",
      "INFO:tensorflow:loss = 10016.824, step = 4500 (0.271 sec)\n",
      "INFO:tensorflow:global_step/sec: 397.001\n",
      "INFO:tensorflow:loss = 13457.855, step = 4600 (0.250 sec)\n",
      "INFO:tensorflow:global_step/sec: 383.264\n",
      "INFO:tensorflow:loss = 6581.298, step = 4700 (0.262 sec)\n",
      "INFO:tensorflow:global_step/sec: 426.175\n",
      "INFO:tensorflow:loss = 5819.418, step = 4800 (0.233 sec)\n",
      "INFO:tensorflow:global_step/sec: 415.607\n",
      "INFO:tensorflow:loss = 11421.881, step = 4900 (0.242 sec)\n",
      "INFO:tensorflow:global_step/sec: 418.744\n",
      "INFO:tensorflow:loss = 15142.3955, step = 5000 (0.238 sec)\n",
      "INFO:tensorflow:global_step/sec: 422.861\n",
      "INFO:tensorflow:loss = 18812.523, step = 5100 (0.236 sec)\n",
      "INFO:tensorflow:global_step/sec: 428.13\n",
      "INFO:tensorflow:loss = 24443.303, step = 5200 (0.234 sec)\n",
      "INFO:tensorflow:global_step/sec: 443.678\n",
      "INFO:tensorflow:loss = 31973.385, step = 5300 (0.225 sec)\n",
      "INFO:tensorflow:global_step/sec: 428.009\n",
      "INFO:tensorflow:loss = 8335.938, step = 5400 (0.234 sec)\n",
      "INFO:tensorflow:global_step/sec: 427.725\n",
      "INFO:tensorflow:loss = 11021.443, step = 5500 (0.234 sec)\n",
      "INFO:tensorflow:global_step/sec: 426.295\n",
      "INFO:tensorflow:loss = 5213.734, step = 5600 (0.235 sec)\n",
      "INFO:tensorflow:global_step/sec: 415.573\n",
      "INFO:tensorflow:loss = 8159.3154, step = 5700 (0.241 sec)\n",
      "INFO:tensorflow:Saving checkpoints for 5729 into taxi_trained/model.ckpt.\n",
      "INFO:tensorflow:Loss for final step: 18345.668.\n",
      "INFO:tensorflow:Calling model_fn.\n",
      "INFO:tensorflow:Done calling model_fn.\n",
      "INFO:tensorflow:Starting evaluation at 2019-07-23-05:59:12\n",
      "INFO:tensorflow:Graph was finalized.\n",
      "INFO:tensorflow:Restoring parameters from taxi_trained/model.ckpt-5729\n",
      "INFO:tensorflow:Running local_init_op.\n",
      "INFO:tensorflow:Done running local_init_op.\n",
      "INFO:tensorflow:Finished evaluation at 2019-07-23-05:59:12\n",
      "INFO:tensorflow:Saving dict for global step 5729: average_loss = 94.5019, global_step = 5729, label/mean = 11.340872, loss = 11420.191, prediction/mean = 11.459038\n",
      "INFO:tensorflow:Saving 'checkpoint_path' summary for global step 5729: taxi_trained/model.ckpt-5729\n",
      "RMSE on validation dataset = 9.721208572387695\n"
     ]
    }
   ],
   "source": [
    "tf.logging.set_verbosity(tf.logging.INFO)\n",
    "shutil.rmtree(OUTDIR, ignore_errors = True) # start fresh each time\n",
    "model = tf.estimator.DNNRegressor(hidden_units = [32, 8, 2],\n",
    "      feature_columns = make_feature_cols(), model_dir = OUTDIR)\n",
    "model.train(input_fn = make_input_fn(df_train, num_epochs = 100));\n",
    "print_rmse(model, 'validation', df_valid)"
   ]
  },
  {
   "cell_type": "markdown",
   "metadata": {},
   "source": [
    "RMSE on benchmark dataset is <b>9.72</b> (your results will vary because of random seeds).\n",
    "\n",
    "This is not only way more than our original benchmark of 6.00, but it doesn't even beat our distance-based rule's RMSE of 8.02.\n",
    "\n",
    "Fear not -- you have learned how to write a TensorFlow model, but not to do all the things that you will have to do to your ML model performant. We will do this in the next chapters. In this chapter though, we will get our TensorFlow model ready for these improvements.\n",
    "\n",
    "In a software sense, the rest of the labs in this chapter will be about refactoring the code so that we can improve it."
   ]
  }
 ],
 "metadata": {
  "kernelspec": {
   "display_name": "env_kaggle",
   "language": "python",
   "name": "env_kaggle"
  },
  "language_info": {
   "codemirror_mode": {
    "name": "ipython",
    "version": 3
   },
   "file_extension": ".py",
   "mimetype": "text/x-python",
   "name": "python",
   "nbconvert_exporter": "python",
   "pygments_lexer": "ipython3",
   "version": "3.6.6"
  }
 },
 "nbformat": 4,
 "nbformat_minor": 2
}
