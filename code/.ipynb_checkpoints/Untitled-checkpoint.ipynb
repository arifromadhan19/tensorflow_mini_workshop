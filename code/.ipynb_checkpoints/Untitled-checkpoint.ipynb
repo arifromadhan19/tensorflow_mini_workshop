{
 "cells": [
  {
   "cell_type": "code",
   "execution_count": 26,
   "metadata": {},
   "outputs": [
    {
     "name": "stdout",
     "output_type": "stream",
     "text": [
      "Tensor(\"Add_37:0\", shape=(), dtype=int32)\n",
      "Tensor(\"Add_38:0\", shape=(2,), dtype=int32)\n",
      "Tensor(\"Square_36:0\", shape=(), dtype=int32)\n",
      "Tensor(\"Sum_12:0\", shape=(), dtype=int32)\n",
      "Tensor(\"add_39:0\", shape=(), dtype=int32)\n"
     ]
    }
   ],
   "source": [
    "\n",
    "\n",
    "\n",
    "print(tf.add(1, 2))\n",
    "print(tf.add([1, 2], [3, 4]))\n",
    "print(tf.square(5))\n",
    "print(tf.reduce_sum([1, 2, 3]))\n",
    "\n",
    "# Operator overloading is also supported\n",
    "print(tf.square(2) + tf.square(3))\n"
   ]
  }
 ],
 "metadata": {
  "kernelspec": {
   "display_name": "env_kaggle",
   "language": "python",
   "name": "env_kaggle"
  },
  "language_info": {
   "codemirror_mode": {
    "name": "ipython",
    "version": 3
   },
   "file_extension": ".py",
   "mimetype": "text/x-python",
   "name": "python",
   "nbconvert_exporter": "python",
   "pygments_lexer": "ipython3",
   "version": "3.6.6"
  }
 },
 "nbformat": 4,
 "nbformat_minor": 2
}
